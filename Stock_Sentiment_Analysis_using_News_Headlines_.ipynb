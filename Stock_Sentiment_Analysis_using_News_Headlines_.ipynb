{
 "cells": [
  {
   "cell_type": "code",
   "execution_count": null,
   "metadata": {
    "id": "eqURJVxoUwqy"
   },
   "outputs": [],
   "source": []
  },
  {
   "cell_type": "markdown",
   "metadata": {
    "id": "Kx7SsBc6Xox8"
   },
   "source": [
    "we will Predict the stock Price movement whether it will go up or down based on top 10 news Headlines\n",
    "\n",
    "class 1 = the stock price increased\n",
    "\n",
    "class 0 = the stock price stayed or decreased"
   ]
  },
  {
   "cell_type": "code",
   "execution_count": 3,
   "metadata": {
    "colab": {
     "base_uri": "https://localhost:8080/",
     "height": 352
    },
    "id": "OlYgqWakX1Qb",
    "outputId": "987dc7eb-5c51-4dac-a974-a8f91d1028ba"
   },
   "outputs": [
    {
     "data": {
      "text/html": [
       "<div>\n",
       "<style scoped>\n",
       "    .dataframe tbody tr th:only-of-type {\n",
       "        vertical-align: middle;\n",
       "    }\n",
       "\n",
       "    .dataframe tbody tr th {\n",
       "        vertical-align: top;\n",
       "    }\n",
       "\n",
       "    .dataframe thead th {\n",
       "        text-align: right;\n",
       "    }\n",
       "</style>\n",
       "<table border=\"1\" class=\"dataframe\">\n",
       "  <thead>\n",
       "    <tr style=\"text-align: right;\">\n",
       "      <th></th>\n",
       "      <th>Date</th>\n",
       "      <th>Label</th>\n",
       "      <th>Top1</th>\n",
       "      <th>Top2</th>\n",
       "      <th>Top3</th>\n",
       "      <th>Top4</th>\n",
       "      <th>Top5</th>\n",
       "      <th>Top6</th>\n",
       "      <th>Top7</th>\n",
       "      <th>Top8</th>\n",
       "      <th>Top9</th>\n",
       "      <th>Top10</th>\n",
       "      <th>Top11</th>\n",
       "      <th>Top12</th>\n",
       "      <th>Top13</th>\n",
       "      <th>Top14</th>\n",
       "      <th>Top15</th>\n",
       "      <th>Top16</th>\n",
       "      <th>Top17</th>\n",
       "      <th>Top18</th>\n",
       "      <th>Top19</th>\n",
       "      <th>Top20</th>\n",
       "      <th>Top21</th>\n",
       "      <th>Top22</th>\n",
       "      <th>Top23</th>\n",
       "      <th>Top24</th>\n",
       "      <th>Top25</th>\n",
       "    </tr>\n",
       "  </thead>\n",
       "  <tbody>\n",
       "    <tr>\n",
       "      <th>0</th>\n",
       "      <td>2000-01-03</td>\n",
       "      <td>0</td>\n",
       "      <td>A 'hindrance to operations': extracts from the...</td>\n",
       "      <td>Scorecard</td>\n",
       "      <td>Hughes' instant hit buoys Blues</td>\n",
       "      <td>Jack gets his skates on at ice-cold Alex</td>\n",
       "      <td>Chaos as Maracana builds up for United</td>\n",
       "      <td>Depleted Leicester prevail as Elliott spoils E...</td>\n",
       "      <td>Hungry Spurs sense rich pickings</td>\n",
       "      <td>Gunners so wide of an easy target</td>\n",
       "      <td>Derby raise a glass to Strupar's debut double</td>\n",
       "      <td>Southgate strikes, Leeds pay the penalty</td>\n",
       "      <td>Hammers hand Robson a youthful lesson</td>\n",
       "      <td>Saints party like it's 1999</td>\n",
       "      <td>Wear wolves have turned into lambs</td>\n",
       "      <td>Stump mike catches testy Gough's taunt</td>\n",
       "      <td>Langer escapes to hit 167</td>\n",
       "      <td>Flintoff injury piles on woe for England</td>\n",
       "      <td>Hunters threaten Jospin with new battle of the...</td>\n",
       "      <td>Kohl's successor drawn into scandal</td>\n",
       "      <td>The difference between men and women</td>\n",
       "      <td>Sara Denver, nurse turned solicitor</td>\n",
       "      <td>Diana's landmine crusade put Tories in a panic</td>\n",
       "      <td>Yeltsin's resignation caught opposition flat-f...</td>\n",
       "      <td>Russian roulette</td>\n",
       "      <td>Sold out</td>\n",
       "      <td>Recovering a title</td>\n",
       "    </tr>\n",
       "    <tr>\n",
       "      <th>1</th>\n",
       "      <td>2000-01-04</td>\n",
       "      <td>0</td>\n",
       "      <td>Scorecard</td>\n",
       "      <td>The best lake scene</td>\n",
       "      <td>Leader: German sleaze inquiry</td>\n",
       "      <td>Cheerio, boyo</td>\n",
       "      <td>The main recommendations</td>\n",
       "      <td>Has Cubie killed fees?</td>\n",
       "      <td>Has Cubie killed fees?</td>\n",
       "      <td>Has Cubie killed fees?</td>\n",
       "      <td>Hopkins 'furious' at Foster's lack of Hannibal...</td>\n",
       "      <td>Has Cubie killed fees?</td>\n",
       "      <td>A tale of two tails</td>\n",
       "      <td>I say what I like and I like what I say</td>\n",
       "      <td>Elbows, Eyes and Nipples</td>\n",
       "      <td>Task force to assess risk of asteroid collision</td>\n",
       "      <td>How I found myself at last</td>\n",
       "      <td>On the critical list</td>\n",
       "      <td>The timing of their lives</td>\n",
       "      <td>Dear doctor</td>\n",
       "      <td>Irish court halts IRA man's extradition to Nor...</td>\n",
       "      <td>Burundi peace initiative fades after rebels re...</td>\n",
       "      <td>PE points the way forward to the ECB</td>\n",
       "      <td>Campaigners keep up pressure on Nazi war crime...</td>\n",
       "      <td>Jane Ratcliffe</td>\n",
       "      <td>Yet more things you wouldn't know without the ...</td>\n",
       "      <td>Millennium bug fails to bite</td>\n",
       "    </tr>\n",
       "  </tbody>\n",
       "</table>\n",
       "</div>"
      ],
      "text/plain": [
       "         Date  ...                         Top25\n",
       "0  2000-01-03  ...            Recovering a title\n",
       "1  2000-01-04  ...  Millennium bug fails to bite\n",
       "\n",
       "[2 rows x 27 columns]"
      ]
     },
     "execution_count": 3,
     "metadata": {
      "tags": []
     },
     "output_type": "execute_result"
    }
   ],
   "source": [
    "import pandas as pd\n",
    "df = pd.read_csv('/content/drive/MyDrive/Data/Data.csv',encoding='ISO-8859-1') \n",
    "df.head(2)"
   ]
  },
  {
   "cell_type": "code",
   "execution_count": 5,
   "metadata": {
    "colab": {
     "base_uri": "https://localhost:8080/",
     "height": 386
    },
    "id": "z9RHU7Q7YfJc",
    "outputId": "c483dfd3-20b7-4643-8db0-bc2fe75577c3"
   },
   "outputs": [
    {
     "data": {
      "text/html": [
       "<div>\n",
       "<style scoped>\n",
       "    .dataframe tbody tr th:only-of-type {\n",
       "        vertical-align: middle;\n",
       "    }\n",
       "\n",
       "    .dataframe tbody tr th {\n",
       "        vertical-align: top;\n",
       "    }\n",
       "\n",
       "    .dataframe thead th {\n",
       "        text-align: right;\n",
       "    }\n",
       "</style>\n",
       "<table border=\"1\" class=\"dataframe\">\n",
       "  <thead>\n",
       "    <tr style=\"text-align: right;\">\n",
       "      <th></th>\n",
       "      <th>Date</th>\n",
       "      <th>Label</th>\n",
       "      <th>Top1</th>\n",
       "      <th>Top2</th>\n",
       "      <th>Top3</th>\n",
       "      <th>Top4</th>\n",
       "      <th>Top5</th>\n",
       "      <th>Top6</th>\n",
       "      <th>Top7</th>\n",
       "      <th>Top8</th>\n",
       "      <th>Top9</th>\n",
       "      <th>Top10</th>\n",
       "      <th>Top11</th>\n",
       "      <th>Top12</th>\n",
       "      <th>Top13</th>\n",
       "      <th>Top14</th>\n",
       "      <th>Top15</th>\n",
       "      <th>Top16</th>\n",
       "      <th>Top17</th>\n",
       "      <th>Top18</th>\n",
       "      <th>Top19</th>\n",
       "      <th>Top20</th>\n",
       "      <th>Top21</th>\n",
       "      <th>Top22</th>\n",
       "      <th>Top23</th>\n",
       "      <th>Top24</th>\n",
       "      <th>Top25</th>\n",
       "    </tr>\n",
       "  </thead>\n",
       "  <tbody>\n",
       "    <tr>\n",
       "      <th>4099</th>\n",
       "      <td>2016-06-30</td>\n",
       "      <td>1</td>\n",
       "      <td>Jamaica proposes marijuana dispensers for tour...</td>\n",
       "      <td>Stephen Hawking says pollution and 'stupidity'...</td>\n",
       "      <td>Boris Johnson says he will not run for Tory pa...</td>\n",
       "      <td>Six gay men in Ivory Coast were abused and for...</td>\n",
       "      <td>Switzerland denies citizenship to Muslim immig...</td>\n",
       "      <td>Palestinian terrorist stabs israeli teen girl ...</td>\n",
       "      <td>Puerto Rico will default on $1 billion of debt...</td>\n",
       "      <td>Republic of Ireland fans to be awarded medal f...</td>\n",
       "      <td>Afghan suicide bomber 'kills up to 40' - BBC News</td>\n",
       "      <td>US airstrikes kill at least 250 ISIS fighters ...</td>\n",
       "      <td>Turkish Cop Who Took Down Istanbul Gunman Hail...</td>\n",
       "      <td>Cannabis compounds could treat Alzheimer's by ...</td>\n",
       "      <td>Japan's top court has approved blanket surveil...</td>\n",
       "      <td>CIA Gave Romania Millions to Host Secret Prisons</td>\n",
       "      <td>Groups urge U.N. to suspend Saudi Arabia from ...</td>\n",
       "      <td>Googles free wifi at Indian railway stations i...</td>\n",
       "      <td>Mounting evidence suggests 'hobbits' were wipe...</td>\n",
       "      <td>The men who carried out Tuesday's terror attac...</td>\n",
       "      <td>Calls to suspend Saudi Arabia from UN Human Ri...</td>\n",
       "      <td>More Than 100 Nobel Laureates Call Out Greenpe...</td>\n",
       "      <td>British pedophile sentenced to 85 years in US ...</td>\n",
       "      <td>US permitted 1,200 offshore fracks in Gulf of ...</td>\n",
       "      <td>We will be swimming in ridicule - French beach...</td>\n",
       "      <td>UEFA says no minutes of silence for Istanbul v...</td>\n",
       "      <td>Law Enforcement Sources: Gun Used in Paris Ter...</td>\n",
       "    </tr>\n",
       "    <tr>\n",
       "      <th>4100</th>\n",
       "      <td>2016-07-01</td>\n",
       "      <td>1</td>\n",
       "      <td>A 117-year-old woman in Mexico City finally re...</td>\n",
       "      <td>IMF chief backs Athens as permanent Olympic host</td>\n",
       "      <td>The president of France says if Brexit won, so...</td>\n",
       "      <td>British Man Who Must Give Police 24 Hours' Not...</td>\n",
       "      <td>100+ Nobel laureates urge Greenpeace to stop o...</td>\n",
       "      <td>Brazil: Huge spike in number of police killing...</td>\n",
       "      <td>Austria's highest court annuls presidential el...</td>\n",
       "      <td>Facebook wins privacy case, can track any Belg...</td>\n",
       "      <td>Switzerland denies Muslim girls citizenship af...</td>\n",
       "      <td>China kills millions of innocent meditators fo...</td>\n",
       "      <td>France Cracks Down on Factory Farms - A viral ...</td>\n",
       "      <td>Abbas PLO Faction Calls Killer of 13-Year-Old ...</td>\n",
       "      <td>Taiwanese warship accidentally fires missile t...</td>\n",
       "      <td>Iran celebrates American Human Rights Week, mo...</td>\n",
       "      <td>U.N. panel moves to curb bias against L.G.B.T....</td>\n",
       "      <td>The United States has placed Myanmar, Uzbekist...</td>\n",
       "      <td>S&amp;amp;P revises European Union credit rating t...</td>\n",
       "      <td>India gets $1 billion loan from World Bank for...</td>\n",
       "      <td>U.S. sailors detained by Iran spoke too much u...</td>\n",
       "      <td>Mass fish kill in Vietnam solved as Taiwan ste...</td>\n",
       "      <td>Philippines president Rodrigo Duterte urges pe...</td>\n",
       "      <td>Spain arrests three Pakistanis accused of prom...</td>\n",
       "      <td>Venezuela, where anger over food shortages is ...</td>\n",
       "      <td>A Hindu temple worker has been killed by three...</td>\n",
       "      <td>Ozone layer hole seems to be healing - US &amp;amp...</td>\n",
       "    </tr>\n",
       "  </tbody>\n",
       "</table>\n",
       "</div>"
      ],
      "text/plain": [
       "            Date  ...                                              Top25\n",
       "4099  2016-06-30  ...  Law Enforcement Sources: Gun Used in Paris Ter...\n",
       "4100  2016-07-01  ...  Ozone layer hole seems to be healing - US &amp...\n",
       "\n",
       "[2 rows x 27 columns]"
      ]
     },
     "execution_count": 5,
     "metadata": {
      "tags": []
     },
     "output_type": "execute_result"
    }
   ],
   "source": [
    "df.tail(2)"
   ]
  },
  {
   "cell_type": "code",
   "execution_count": 6,
   "metadata": {
    "id": "gGngmQ0WY1db"
   },
   "outputs": [],
   "source": [
    "train = df[df['Date'] < '20150101']\n",
    "test = df[df['Date'] > '20150102']"
   ]
  },
  {
   "cell_type": "code",
   "execution_count": 8,
   "metadata": {
    "colab": {
     "base_uri": "https://localhost:8080/"
    },
    "id": "Np9WxIh2b9sQ",
    "outputId": "7cbe13fa-c574-45a6-bccb-e9f571bdef29"
   },
   "outputs": [
    {
     "data": {
      "text/plain": [
       "((3975, 27), (126, 27), (4101, 27))"
      ]
     },
     "execution_count": 8,
     "metadata": {
      "tags": []
     },
     "output_type": "execute_result"
    }
   ],
   "source": [
    "train.shape,test.shape,df.shape"
   ]
  },
  {
   "cell_type": "code",
   "execution_count": 21,
   "metadata": {
    "id": "E2ZP2BvZcAw6"
   },
   "outputs": [],
   "source": [
    "## Redmoving Punctuation\n",
    "data = train.iloc[:,2:27]\n",
    "data.replace(\"[^a-zA-Z]\",\" \",regex=True, inplace=True)\n",
    "\n",
    "# Renaming column names for ease of access\n",
    "list1= [i for i in range(25)]\n",
    "new_Index=[str(i) for i in list1]\n",
    "data.columns= new_Index\n",
    "\n",
    "\n",
    "# Convertng headlines to lower case\n",
    "for index in new_Index:\n",
    "    data[index]=data[index].str.lower()\n",
    "\n",
    "# nw combine all 25 news together\n",
    "headlines = []\n",
    "for row in range(0,len(data.index)):\n",
    "    headlines.append(' '.join(str(x) for x in data.iloc[row,0:25]))"
   ]
  },
  {
   "cell_type": "code",
   "execution_count": 24,
   "metadata": {
    "colab": {
     "base_uri": "https://localhost:8080/",
     "height": 222
    },
    "id": "iWqa9sE9cKnY",
    "outputId": "82f055a0-06e4-4d16-cf01-f7b0d048b9da"
   },
   "outputs": [
    {
     "data": {
      "application/vnd.google.colaboratory.intrinsic+json": {
       "type": "string"
      },
      "text/plain": [
       "'a  hindrance to operations   extracts from the leaked reports scorecard hughes  instant hit buoys blues jack gets his skates on at ice cold alex chaos as maracana builds up for united depleted leicester prevail as elliott spoils everton s party hungry spurs sense rich pickings gunners so wide of an easy target derby raise a glass to strupar s debut double southgate strikes  leeds pay the penalty hammers hand robson a youthful lesson saints party like it s      wear wolves have turned into lambs stump mike catches testy gough s taunt langer escapes to hit     flintoff injury piles on woe for england hunters threaten jospin with new battle of the somme kohl s successor drawn into scandal the difference between men and women sara denver  nurse turned solicitor diana s landmine crusade put tories in a panic yeltsin s resignation caught opposition flat footed russian roulette sold out recovering a title'"
      ]
     },
     "execution_count": 24,
     "metadata": {
      "tags": []
     },
     "output_type": "execute_result"
    }
   ],
   "source": [
    "headlines[0]"
   ]
  },
  {
   "cell_type": "code",
   "execution_count": 27,
   "metadata": {
    "colab": {
     "base_uri": "https://localhost:8080/"
    },
    "id": "UK3NpD9ucWzT",
    "outputId": "28c72502-f91c-4bb4-cd37-901d20dbc5dd"
   },
   "outputs": [
    {
     "data": {
      "text/plain": [
       "RandomForestClassifier(bootstrap=True, ccp_alpha=0.0, class_weight=None,\n",
       "                       criterion='entropy', max_depth=None, max_features='auto',\n",
       "                       max_leaf_nodes=None, max_samples=None,\n",
       "                       min_impurity_decrease=0.0, min_impurity_split=None,\n",
       "                       min_samples_leaf=1, min_samples_split=2,\n",
       "                       min_weight_fraction_leaf=0.0, n_estimators=200,\n",
       "                       n_jobs=None, oob_score=False, random_state=None,\n",
       "                       verbose=0, warm_start=False)"
      ]
     },
     "execution_count": 27,
     "metadata": {
      "tags": []
     },
     "output_type": "execute_result"
    }
   ],
   "source": [
    "from sklearn.feature_extraction.text import CountVectorizer\n",
    "from sklearn.ensemble import RandomForestClassifier\n",
    "\n",
    "## implement BAG OF WORDS\n",
    "countvector=CountVectorizer(ngram_range=(2,2))\n",
    "traindataset=countvector.fit_transform(headlines)\n",
    "\n",
    "# implement RandomForest Classifier\n",
    "randomclassifier=RandomForestClassifier(n_estimators=200,criterion='entropy')\n",
    "randomclassifier.fit(traindataset,train['Label'])"
   ]
  },
  {
   "cell_type": "code",
   "execution_count": 32,
   "metadata": {
    "id": "IrRHSGhdeHwd"
   },
   "outputs": [],
   "source": [
    "# Predict for the test dataset\n",
    "# Removing punctuations\n",
    "data1=test.iloc[:,2:27]\n",
    "data1.replace(\"[^a-zA-Z]\",\" \",regex=True, inplace=True)\n",
    "\n",
    "# Renaming column names for ease of access\n",
    "list1= [i for i in range(25)]\n",
    "new_Index=[str(i) for i in list1]\n",
    "data1.columns= new_Index\n",
    "\n",
    "\n",
    "# Convertng headlines to lower case\n",
    "for index in new_Index:\n",
    "    data1[index]=data1[index].str.lower()\n",
    "\n",
    "# nw combine all 25 news together\n",
    "testheadlines = []\n",
    "for row in range(0,len(data1.index)):\n",
    "    testheadlines.append(' '.join(str(x) for x in data1.iloc[row,0:25]))\n",
    "\n",
    "test_dataset = countvector.transform(testheadlines)\n",
    "predictions = randomclassifier.predict(test_dataset)\n"
   ]
  },
  {
   "cell_type": "code",
   "execution_count": 33,
   "metadata": {
    "colab": {
     "base_uri": "https://localhost:8080/"
    },
    "id": "Uc-gzpDSeLCc",
    "outputId": "46243063-5a4d-4deb-9145-9b7557b84683"
   },
   "outputs": [
    {
     "name": "stdout",
     "output_type": "stream",
     "text": [
      "[[10 46]\n",
      " [ 5 65]]\n",
      "0.5952380952380952\n",
      "              precision    recall  f1-score   support\n",
      "\n",
      "           0       0.67      0.18      0.28        56\n",
      "           1       0.59      0.93      0.72        70\n",
      "\n",
      "    accuracy                           0.60       126\n",
      "   macro avg       0.63      0.55      0.50       126\n",
      "weighted avg       0.62      0.60      0.52       126\n",
      "\n"
     ]
    }
   ],
   "source": [
    "## Import library to check accuracy\n",
    "from sklearn.metrics import classification_report,confusion_matrix,accuracy_score\n",
    "\n",
    "matrix=confusion_matrix(test['Label'],predictions)\n",
    "print(matrix)\n",
    "score=accuracy_score(test['Label'],predictions)\n",
    "print(score)\n",
    "report=classification_report(test['Label'],predictions)\n",
    "print(report)\n"
   ]
  },
  {
   "cell_type": "code",
   "execution_count": 35,
   "metadata": {
    "colab": {
     "base_uri": "https://localhost:8080/",
     "height": 239
    },
    "id": "Q6sqJ0dygB4O",
    "outputId": "84f88119-62d6-47e1-b8e2-baa32fd5eed0"
   },
   "outputs": [
    {
     "data": {
      "application/vnd.google.colaboratory.intrinsic+json": {
       "type": "string"
      },
      "text/plain": [
       "'saudi arabia breaks off ties with iran   amid row over saudi execution of shia cleric exclusive  uk government urged to reveal its role in getting saudi arabia onto un human rights council   liberal democrat and green party leaders call on david cameron to reveal whether british government supported saudi bid china halts trading as stocks fall    earthquake measuring     magnitude strikes india a virus linked to shrinking newborns brains is spreading rapidly beyond brazil  epidemic of zika virus suspected  new photos of spacex booster show sooty  but undamaged rocket indian consulate in afghanistan under attack by gunmen iran calls off major hajj denmark responds to swedish border checks with own controls   if the european union cannot protect the external border you will see more and more countries forced to introduce temporary border controls     danish pm david cameron criticised for turning  blind eye  to mass executions in saudi arabia denmark introduces temporary controls along german border israel retaliates to hezbollah bombing at lebanon border   idf currently firing artillery at hezbollah and lebanese army positions china aims to build    nuclear power plants in upcoming   years  generating    gigawatts according to obtained documents  after rape and forcing inmates to do oral sex  british soldiers could face charges for possible war crimes committed in iraq western australian rooftop solar systems producing more energy than its biggest turbine iranian leaders website posts controversial image comparing saudi arabia to isis after bahrain  sudan expels iranian ambassador from khartoum saudi arabia to cut off all air traffic with iran  saudi fm hezbollah sets off large border bomb targeting idf heavy vehicles iranian diplomats given    hours to leave saudi arabia bbc news  migrant crisis  sweden border checks come into force teachers claim the politics of austerity is leaving scottish schoolchildren so hungry they have to steal from their classmates just to be able to eat  the aftermath of a muslim cleric s execution in saudi arabia   al nimrs death  which al nimrs brother told the associated press came as a surprise to even their own family  was seen by some as a warning to individuals  particularly shiites  against seeking political reforms  iran     arrested for attack on saudi embassy oil prices jump over   pct on saudi arabia  iran tensions'"
      ]
     },
     "execution_count": 35,
     "metadata": {
      "tags": []
     },
     "output_type": "execute_result"
    }
   ],
   "source": [
    "testheadlines[0]"
   ]
  },
  {
   "cell_type": "code",
   "execution_count": null,
   "metadata": {
    "id": "3jCH8ipSgT7a"
   },
   "outputs": [],
   "source": []
  }
 ],
 "metadata": {
  "colab": {
   "collapsed_sections": [],
   "name": "Stock Sentiment Analysis using News Headlines .ipynb",
   "provenance": []
  },
  "kernelspec": {
   "display_name": "Python 3",
   "language": "python",
   "name": "python3"
  },
  "language_info": {
   "codemirror_mode": {
    "name": "ipython",
    "version": 3
   },
   "file_extension": ".py",
   "mimetype": "text/x-python",
   "name": "python",
   "nbconvert_exporter": "python",
   "pygments_lexer": "ipython3",
   "version": "3.8.5"
  }
 },
 "nbformat": 4,
 "nbformat_minor": 1
}
